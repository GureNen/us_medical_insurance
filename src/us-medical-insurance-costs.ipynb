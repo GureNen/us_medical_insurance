{
 "cells": [
  {
   "cell_type": "markdown",
   "metadata": {},
   "source": [
    "# U.S. Medical Insurance Costs"
   ]
  },
  {
   "cell_type": "markdown",
   "metadata": {},
   "source": [
    "The first step in our project is to import the csv module and the file that contains our data"
   ]
  },
  {
   "cell_type": "code",
   "execution_count": 1,
   "metadata": {},
   "outputs": [],
   "source": [
    "import csv\n",
    "\n",
    "insurance_csv = open('insurance.csv', newline='')\n",
    "insurance_reader = csv.DictReader(insurance_csv) # there is no need to use the delimiter parameter since ',' is the default value"
   ]
  },
  {
   "cell_type": "markdown",
   "metadata": {},
   "source": [
    "We need to save our data (each column) in an appropriate Python data structures "
   ]
  },
  {
   "cell_type": "markdown",
   "metadata": {},
   "source": [
    "We can start by building the Person class for creating the instance of a person in our data set"
   ]
  },
  {
   "cell_type": "code",
   "execution_count": 2,
   "metadata": {},
   "outputs": [],
   "source": [
    "class Person:\n",
    "    def __init__(self, age, sex, bmi, children, smoker, region, charges, id = None):\n",
    "        self.age = age\n",
    "        self.sex = sex\n",
    "        self.bmi = bmi\n",
    "        self.children = children\n",
    "        self.smoker = smoker\n",
    "        self.region = region\n",
    "        self.charges = charges\n",
    "        self.id = id\n",
    "    def __repr__(self):\n",
    "        return \"The person with the id of {id} is a {age}'s old {sex} from {region}. With a BMI of {bmi}, a number of children of {children}, a smoking state of {smoker} and charges value of {charges}\".format(id=self.id, age=self.age, sex=self.sex, region=self.region, bmi=self.bmi, children=self.children, smoker=self.smoker, charges=self.charges)"
   ]
  },
  {
   "cell_type": "markdown",
   "metadata": {},
   "source": [
    "Next, we need to :\n",
    "* Create different lists for the different columns  \n",
    "* Get the data for each person and store it in a Person's instance\n",
    "* Regroup all instances in a `people_list`\n",
    "* Transform the different instances into a Python dictionary"
   ]
  },
  {
   "cell_type": "code",
   "execution_count": 3,
   "metadata": {},
   "outputs": [],
   "source": [
    "# creating a list for each column\n",
    "age_list, sex_list, bmi_list, children_list, smoker_list, region_list, charges_list = [], [], [], [], [], [], []\n",
    "length = 0\n",
    "for row in insurance_reader:\n",
    "    age_list.append(int(row['age']))\n",
    "    sex_list.append(row['sex'])\n",
    "    bmi_list.append(float(row['bmi']))\n",
    "    children_list.append(int(row['children']))\n",
    "    smoker_list.append(row['smoker'])\n",
    "    region_list.append(row['region'])\n",
    "    charges_list.append(float(row['charges']))\n",
    "    length += 1\n",
    "\n",
    "# adding an id sequence\n",
    "ids = range(1, length+1)\n",
    "\n",
    "# creating people_list\n",
    "people_list = []\n",
    "for i in ids:\n",
    "    people_list.append(Person(age_list[i-1], sex_list[i-1], bmi_list[i-1], children_list[i-1], smoker_list[i-1], region_list[i-1], charges_list[i-1], i))\n",
    "\n",
    "# creating people_dict\n",
    "people_dict = {}\n",
    "for person in people_list:\n",
    "    people_dict[person.id] = {\n",
    "        'age': person.age, \n",
    "        'sex': person.sex, \n",
    "        'bmi': person.bmi, \n",
    "        'children': person.children, \n",
    "        'smoker': person.smoker, \n",
    "        'charges': person.charges\n",
    "    }\n",
    "\n",
    "insurance_csv.close()\n"
   ]
  },
  {
   "cell_type": "markdown",
   "metadata": {},
   "source": [
    "Now, we have all the data we need in appropriate data structures, it's time to begin the analysis."
   ]
  },
  {
   "cell_type": "code",
   "execution_count": 4,
   "metadata": {},
   "outputs": [
    {
     "name": "stdout",
     "output_type": "stream",
     "text": [
      "The average age in our entries is 39.20702541106129\n",
      "The region with the most effective is southeast with an effective of 363\n",
      "The average age of somebody having 2 children is 39.44583333333333\n",
      "The region with the highest smoking rate is southeast with a rate of 0.24793388429752067\n",
      "The region with the highest birth rate is northwest with a rate of 1.1512345679012346\n"
     ]
    }
   ],
   "source": [
    "# defining functions\n",
    "\n",
    "def average(input_list):\n",
    "    sum = 0\n",
    "    i = 0\n",
    "    for data in input_list:\n",
    "        sum += data\n",
    "        i += 1\n",
    "    return sum / i\n",
    "\n",
    "# average age of entries\n",
    "\n",
    "def average_age_all(list):\n",
    "    print(f\"The average age in our entries is {average(list)}\")\n",
    "average_age_all(age_list)\n",
    "\n",
    "# highest efective region\n",
    "\n",
    "def highest_effective_region(input_list):\n",
    "    region_dict = {}\n",
    "    for region in input_list:\n",
    "        try:\n",
    "            region_dict[region] += 1\n",
    "        except KeyError:\n",
    "            region_dict[region] = 0\n",
    "    max_effective = 0\n",
    "    related_region = None\n",
    "    for region in region_dict:\n",
    "        if region_dict[region] > max_effective:\n",
    "            max_effective = region_dict[region]\n",
    "            related_region = region\n",
    "    print(f\"The region with the most effective is {related_region} with an effective of {max_effective}\")\n",
    "    return region_dict\n",
    "region_effective = highest_effective_region(region_list)\n",
    "    \n",
    "# average age of someone with n-children\n",
    "\n",
    "def average_age_with_nth_children(input_list, n):\n",
    "    average_age = 0\n",
    "    people_counter = 0\n",
    "    for person in input_list:\n",
    "        if person.children == n:\n",
    "            average_age += person.age\n",
    "            people_counter += 1\n",
    "    try:\n",
    "        average_age /= people_counter\n",
    "    except ZeroDivisionError:\n",
    "        average_age = 0\n",
    "    print(f\"The average age of somebody having {n} children is {average_age}\")\n",
    "average_age_with_nth_children(people_list, 2)\n",
    "\n",
    "# region with the highest smoking rate\n",
    "\n",
    "def highest_smoking_rate_region(people_list):\n",
    "    # we create a dictionary to hold the effective of smoker in each region\n",
    "    region_smoker = {}\n",
    "    for person in people_list:\n",
    "        if person.smoker == 'no':\n",
    "            continue\n",
    "        try:\n",
    "            region_smoker[person.region] += 1\n",
    "        except KeyError:\n",
    "            region_smoker[person.region] = 0\n",
    "    # we divide each effective by the total effective to get the smoking rate\n",
    "    highest_smoking_rate = 0\n",
    "    for region in region_smoker:\n",
    "        region_smoker[region] /= region_effective[region]\n",
    "        if region_smoker[region] > highest_smoking_rate:\n",
    "            highest_smoking_rate = region_smoker[region]\n",
    "            related_region = region\n",
    "    print(f\"The region with the highest smoking rate is {related_region} with a rate of {highest_smoking_rate}\")\n",
    "    return region_smoker\n",
    "region_with_highest_smoking_rate = highest_smoking_rate_region(people_list)\n",
    "\n",
    "# region with the highest birth rate\n",
    "\n",
    "def highest_birth_rate_region(people_list):\n",
    "    # we create a dictionary to hold the effective of children in each region\n",
    "    region_children = {}\n",
    "    for person in people_list:\n",
    "        try:\n",
    "            region_children[person.region] += person.children\n",
    "        except KeyError:\n",
    "            region_children[person.region] = person.children\n",
    "    # we divide each effective by the effective of people to get the birth rate\n",
    "    highest_rate = 0\n",
    "    for region in region_children:\n",
    "        region_children[region] /= region_effective[region]\n",
    "        if region_children[region] > highest_rate:\n",
    "            highest_rate = region_children[region]\n",
    "            related_region = region\n",
    "    print(f\"The region with the highest birth rate is {related_region} with a rate of {highest_rate}\")\n",
    "    return region_children\n",
    "region_with_highest_birth_rate = highest_birth_rate_region(people_list)\n",
    "\n",
    "\n"
   ]
  }
 ],
 "metadata": {
  "interpreter": {
   "hash": "2f5ae6b0975421d54ca009c88c407a1c0efd9a2884b25b7e44a3594775f9eb15"
  },
  "kernelspec": {
   "display_name": "Python 3.10.4 ('project-2-blZKBcaL')",
   "language": "python",
   "name": "python3"
  },
  "language_info": {
   "codemirror_mode": {
    "name": "ipython",
    "version": 3
   },
   "file_extension": ".py",
   "mimetype": "text/x-python",
   "name": "python",
   "nbconvert_exporter": "python",
   "pygments_lexer": "ipython3",
   "version": "3.10.4"
  }
 },
 "nbformat": 4,
 "nbformat_minor": 4
}
